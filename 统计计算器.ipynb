{
 "cells": [
  {
   "cell_type": "code",
   "execution_count": 2,
   "metadata": {},
   "outputs": [],
   "source": [
    "import numpy as np\n",
    "from scipy import stats\n",
    "import pandas as pd"
   ]
  },
  {
   "cell_type": "markdown",
   "metadata": {},
   "source": [
    "均值"
   ]
  },
  {
   "cell_type": "code",
   "execution_count": 24,
   "metadata": {},
   "outputs": [
    {
     "data": {
      "text/plain": [
       "2.4"
      ]
     },
     "execution_count": 24,
     "metadata": {},
     "output_type": "execute_result"
    }
   ],
   "source": [
    "df_s = pd.read_csv(\"计算数据.csv\")\n",
    "df_s\n",
    "\n",
    "\n",
    "def mean_csv(df_s):\n",
    "    n = df_s['num'].sum()\n",
    "    x_mean = (df_s['stat'].mul(df_s['num'])).sum()/n\n",
    "    return x_mean\n",
    "\n",
    "\n",
    "mean_csv(df_s)"
   ]
  },
  {
   "cell_type": "markdown",
   "metadata": {},
   "source": [
    "总体方差"
   ]
  },
  {
   "cell_type": "code",
   "execution_count": 3,
   "metadata": {},
   "outputs": [
    {
     "data": {
      "text/plain": [
       "(0.48989794855663565, 0.24000000000000005)"
      ]
     },
     "execution_count": 3,
     "metadata": {},
     "output_type": "execute_result"
    }
   ],
   "source": [
    "df_s = pd.read_csv(\"计算数据.csv\")\n",
    "df_s\n",
    "\n",
    "\n",
    "def sigma(df_s):\n",
    "    n = df_s['num'].sum()\n",
    "    x_mean = (df_s['stat'].mul(df_s['num'])).sum()/n\n",
    "    sigma_2 = ((np.square(df_s['stat']-x_mean).mul(df_s['num'])).sum())/(n)\n",
    "    sigma = np.sqrt(sigma_2)\n",
    "    return sigma,sigma_2\n",
    "\n",
    "\n",
    "sigma(df_s)"
   ]
  },
  {
   "cell_type": "markdown",
   "metadata": {},
   "source": [
    "计算样本方差"
   ]
  },
  {
   "cell_type": "code",
   "execution_count": 5,
   "metadata": {},
   "outputs": [
    {
     "data": {
      "text/plain": [
       "(0.5163977794943223, 0.2666666666666667)"
      ]
     },
     "execution_count": 5,
     "metadata": {},
     "output_type": "execute_result"
    }
   ],
   "source": [
    "df_s = pd.read_csv(\"计算数据.csv\")\n",
    "df_s\n",
    "\n",
    "\n",
    "def s_2(df_s):\n",
    "    n = df_s['num'].sum()\n",
    "    x_mean = (df_s['stat'].mul(df_s['num'])).sum()/n\n",
    "    s_2 = ((np.square(df_s['stat']-x_mean).mul(df_s['num'])).sum())/(n-1)\n",
    "    s = np.sqrt(s_2)\n",
    "    return s,s_2\n",
    "\n",
    "\n",
    "\n",
    "s_2(df_s)"
   ]
  },
  {
   "cell_type": "markdown",
   "metadata": {},
   "source": [
    "标准正态分布表"
   ]
  },
  {
   "cell_type": "code",
   "execution_count": 1,
   "metadata": {},
   "outputs": [
    {
     "name": "stdout",
     "output_type": "stream",
     "text": [
      "Z值为 1.96 时的累积概率为 0.9750\n"
     ]
    }
   ],
   "source": [
    "from scipy.stats import norm\n",
    "\n",
    "def calculate_cumulative_probability(z_value):\n",
    "    cumulative_prob = norm.cdf(z_value)\n",
    "    return cumulative_prob\n",
    "\n",
    "z_value = 1.96\n",
    "cumulative_prob = calculate_cumulative_probability(z_value)\n",
    "print(f\"Z值为 {z_value} 时的累积概率为 {cumulative_prob:.4f}\")"
   ]
  },
  {
   "cell_type": "code",
   "execution_count": null,
   "metadata": {},
   "outputs": [],
   "source": [
    "from scipy.stats import norm\n",
    "\n",
    "def calculate_z_value(cumulative_prob):\n",
    "    z_value = norm.ppf(cumulative_prob)\n",
    "    return z_value\n",
    "\n",
    "cumulative_prob = 0.975  # 例如，计算累积概率为0.975时的Z值\n",
    "z_value = calculate_z_value(cumulative_prob)\n",
    "print(f\"累积概率为 {cumulative_prob} 时对应的Z值为 {z_value:.4f}\")"
   ]
  },
  {
   "cell_type": "markdown",
   "metadata": {},
   "source": [
    "卡方分布"
   ]
  },
  {
   "cell_type": "code",
   "execution_count": 23,
   "metadata": {},
   "outputs": [
    {
     "name": "stdout",
     "output_type": "stream",
     "text": [
      "自由度为 99，分位数为 0.05 时的卡方分布值为 77.0463\n"
     ]
    }
   ],
   "source": [
    "from scipy.stats import chi2\n",
    "\n",
    "def calculate_chi2_quantile(df, cumulative_prob):\n",
    "    chi2_value = chi2.ppf(cumulative_prob, df)\n",
    "    return chi2_value\n",
    "\n",
    "degrees_of_freedom = 99\n",
    "cumulative_prob = 0.05\n",
    "chi2_value = calculate_chi2_quantile(degrees_of_freedom, cumulative_prob)\n",
    "print(f\"自由度为 {degrees_of_freedom}，分位数为 {cumulative_prob} 时的卡方分布值为 {chi2_value:.4f}\")"
   ]
  },
  {
   "cell_type": "markdown",
   "metadata": {},
   "source": [
    "t分布"
   ]
  },
  {
   "cell_type": "code",
   "execution_count": null,
   "metadata": {},
   "outputs": [],
   "source": [
    "from scipy.stats import t\n",
    "\n",
    "def calculate_t_quantile(df, cumulative_prob):\n",
    "    t_value = t.ppf(cumulative_prob, df)\n",
    "    return t_value\n",
    "\n",
    "degrees_of_freedom = int(input(\"请输入自由度（n）的值：\"))\n",
    "cumulative_prob = 0.05\n",
    "t_value = calculate_t_quantile(degrees_of_freedom, cumulative_prob)\n",
    "print(f\"自由度为 {degrees_of_freedom}，分位数为 {cumulative_prob} 时的t分布值为 {t_value:.4f}\")"
   ]
  },
  {
   "cell_type": "markdown",
   "metadata": {},
   "source": [
    "f分布"
   ]
  },
  {
   "cell_type": "code",
   "execution_count": null,
   "metadata": {},
   "outputs": [],
   "source": [
    "from scipy.stats import f\n",
    "\n",
    "def calculate_f_quantile(df_num, df_denom, cumulative_prob):\n",
    "    f_value = f.ppf(cumulative_prob, df_num, df_denom)\n",
    "    return f_value\n",
    "\n",
    "df_num = int(input(\"请输入分子自由度（n1）的值：\"))\n",
    "df_denom = int(input(\"请输入分母自由度（n2）的值：\"))\n",
    "cumulative_prob = 0.05\n",
    "f_value = calculate_f_quantile(df_num, df_denom, cumulative_prob)\n",
    "print(f\"分子自由度为 {df_num}，分母自由度为 {df_denom}，分位数为 {cumulative_prob} 时的F分布值为 {f_value:.4f}\")"
   ]
  },
  {
   "cell_type": "code",
   "execution_count": 2,
   "metadata": {},
   "outputs": [
    {
     "name": "stdout",
     "output_type": "stream",
     "text": [
      "z_0.025 = 1.959963984540054\n"
     ]
    }
   ],
   "source": [
    "import scipy.stats as stats  \n",
    "  \n",
    "def z_alpha_over_two(alpha):  \n",
    "    return stats.norm.ppf(1 - alpha/2)  \n",
    "  \n",
    "# 例如，如果你想要计算当 α = 0.05 时的 z_{α/2}  \n",
    "alpha = 0.05  \n",
    "z_value = z_alpha_over_two(alpha)  \n",
    "print(f\"z_{alpha/2} = {z_value}\")"
   ]
  },
  {
   "cell_type": "code",
   "execution_count": 8,
   "metadata": {},
   "outputs": [
    {
     "data": {
      "text/plain": [
       "320.9464719999999"
      ]
     },
     "execution_count": 8,
     "metadata": {},
     "output_type": "execute_result"
    }
   ],
   "source": [
    "a = (((1.96)**2)*0.0341*0.98)/((0.02)**2)\n",
    "a"
   ]
  }
 ],
 "metadata": {
  "kernelspec": {
   "display_name": "Python 3",
   "language": "python",
   "name": "python3"
  },
  "language_info": {
   "codemirror_mode": {
    "name": "ipython",
    "version": 3
   },
   "file_extension": ".py",
   "mimetype": "text/x-python",
   "name": "python",
   "nbconvert_exporter": "python",
   "pygments_lexer": "ipython3",
   "version": "3.10.9"
  }
 },
 "nbformat": 4,
 "nbformat_minor": 2
}
